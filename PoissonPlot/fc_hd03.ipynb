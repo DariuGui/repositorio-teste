{
 "cells": [
  {
   "cell_type": "markdown",
   "metadata": {},
   "source": [
    "# Hands-on 03: Poisson Traffic in ns-3\n",
    "\n",
    "* Objetivo:\n",
    " - Implementar o tráfego de poisson no ns-3;\n",
    " - Implementar o Callback para captura de métricas;\n",
    " - Plotar o tráfego de poisson;\n",
    " - Resolver os desafios.\n",
    " \n",
    "\n",
    "* Equipe:\n",
    " - Daniel Rodrigues de Luna (daniel.luna.088@ufrn.edu.br)\n",
    " - Vicente Angelo de Sousa Junior (vicente.sousa@ufrn.br)"
   ]
  },
  {
   "cell_type": "markdown",
   "metadata": {},
   "source": [
    "## Passo 1: implementar o tráfego de poisson no ns-3"
   ]
  },
  {
   "cell_type": "markdown",
   "metadata": {},
   "source": [
    "Para implementar o tráfego de poisson no seu script do ns-3, deve-se utilizar utilizar um *helper* de aplicação que tenha suporte a utilização de variáveis aleatórias que possam reger os intervalos de criação/nascimento de pacotes. No ns-3, o helper que traz esse suporte é o **OnOffHelper**, além disso, segundo [o fórum oficial do ns-3](https://groups.google.com/u/1/g/ns-3-users/c/hdGzBtHryD0/m/DcOxB0HOAgAJ), o tráfego de poissson pode ser alcançado configurando a aplicação *OnOff*, de modo que o tempo em *Off* é exponencial e o tempo *On* é longo o bastante para enviar um pacote.\n",
    "\n",
    "Um exemplo da aplicação *OnOff* em *Uplink* é apresentado abaixo:"
   ]
  },
  {
   "cell_type": "code",
   "execution_count": null,
   "metadata": {},
   "outputs": [],
   "source": [
    "PacketSinkHelper ulPacketSinkHelper (\"ns3::UdpSocketFactory\", InetSocketAddress (remoteHostAddr, ulPort));\n",
    "serverApps.Add (ulPacketSinkHelper.Install (remoteHost));\n",
    "\n",
    "OnOffHelper onoffUl (\"ns3::UdpSocketFactory\", InetSocketAddress (remoteHostAddr, ulPort));\n",
    "onoffUl.SetAttribute (\"OnTime\", StringValue (\"ns3::ConstantRandomVariable[Constant=0.001]\"));\n",
    "onoffUl.SetAttribute (\"OffTime\", StringValue (\"ns3::ExponentialRandomVariable[Mean=2]\"));\n",
    "onoffUl.SetAttribute (\"PacketSize\", UintegerValue(PacketSize));\n",
    "onoffUl.SetAttribute (\"StartTime\", TimeValue (Seconds (0.5)));\n",
    "onoffUl.SetAttribute (\"StopTime\", TimeValue (Seconds (simTime)));\n",
    "clientApps.Add (onoffUl.Install (gridScenario.GetUserTerminals().Get(u)));"
   ]
  },
  {
   "cell_type": "markdown",
   "metadata": {},
   "source": [
    "Antes de passar para o próximo passo, tenha certeza de que seu script não apresenta problemas."
   ]
  },
  {
   "cell_type": "markdown",
   "metadata": {},
   "source": [
    "## Passo 2: implementar o Callback para captura de métricas"
   ]
  },
  {
   "cell_type": "markdown",
   "metadata": {},
   "source": [
    "Depois de implementado o tráfego de poisson, é necessário então capturar a métrica utilizada para provar que o tráfego gerado é, de fato, poisson. Nesse caso, é necessário apenas capturar *o momento em que o pacote foi transmitido*.\n",
    "\n",
    "A maneira mais simples de realizar essa captura é salvando os valores em um arquivo *.txt* durante a simulação, para que, depois de finalizada, seja realizado o pós-processamento dos dados.\n",
    "\n",
    "Para salvar os valores e salvá-los em um arquivo *.txt*, usa-se a funcionalidade dos *TraceSources* e *Callbacks* no ns-3. Os *TraceSources* são variáveis que ativam um *CallBack* toda vez que elas são alteradas, e os *Callbacks* são funções, que podem realizar quaisquer operações (desde que implementadas) e estão conectados aos *TraceSources*. Abaixo, segue a função que salva em *\"TxSentTrace.txt\"* o momento em que um pacote é enviado. "
   ]
  },
  {
   "cell_type": "code",
   "execution_count": null,
   "metadata": {},
   "outputs": [],
   "source": [
    "void\n",
    "TraceSentPacket (std::string context, Ptr<const Packet> m_txTrace)\n",
    "{\n",
    "  //Vector position = model->GetPosition ();\n",
    "  //NS_LOG_UNCOND (context << \"Time Tx: \" \n",
    "  //              << Simulator::Now ().GetSeconds () \n",
    "  //              << \" Packet = \" << m_txTrace);\n",
    "  if (!m_TxTraceFile.is_open ())\n",
    "    {\n",
    "      m_TxTraceFileName = \"TxSentTrace.txt\";\n",
    "      m_TxTraceFile.open (m_TxTraceFileName.c_str ());\n",
    "      m_TxTraceFile << \"Time\" << std::endl;\n",
    "\n",
    "      if (!m_TxTraceFile.is_open ())\n",
    "        {\n",
    "          NS_FATAL_ERROR (\"Could not open tracefile\");\n",
    "        }\n",
    "    }\n",
    "\n",
    "  m_TxTraceFile << Simulator::Now () << std::endl;\n",
    "}\n",
    "\n"
   ]
  },
  {
   "cell_type": "markdown",
   "metadata": {},
   "source": [
    "Nesse trecho, as linhas de código abaixo mostra como realizar a conexão de um nó com a função do CallBack, para a Aplicação do tipo *OnOff*."
   ]
  },
  {
   "cell_type": "code",
   "execution_count": null,
   "metadata": {},
   "outputs": [],
   "source": [
    "std::ostringstream oss;\n",
    "    oss << \"/NodeList/\"\n",
    "        << gridScenario.GetUserTerminals().Get (0)->GetId ()\n",
    "      << \"/ApplicationList/0\"\n",
    "      << \"/$ns3::OnOffApplication/Tx\";\n",
    "\n",
    "Config::Connect (oss.str (), MakeCallback (&TraceSentPacket));"
   ]
  },
  {
   "cell_type": "markdown",
   "metadata": {},
   "source": [
    "## Passo 3: plotar o tráfego de poisson (prova)"
   ]
  },
  {
   "cell_type": "markdown",
   "metadata": {},
   "source": [
    "Depois de simular e tudo estiver occorido bem, deverá ter o arquivo \"TxSentTrace.txt\", que será utilizado para gerar os gráficos de fitagem de curva. \n",
    "\n",
    "Carregue as bibliotecas abaixo:"
   ]
  },
  {
   "cell_type": "code",
   "execution_count": 16,
   "metadata": {
    "scrolled": true
   },
   "outputs": [],
   "source": [
    "# Bibliotecas\n",
    "\n",
    "import numpy as np\n",
    "import pandas as pd\n",
    "import matplotlib.pyplot as plt\n",
    "import seaborn as sns\n",
    "from itertools import cycle\n",
    "import yaml\n",
    "import scipy.stats as st\n",
    "import plotly.graph_objects as go\n",
    "import plotly.express as px \n",
    "\n"
   ]
  },
  {
   "cell_type": "markdown",
   "metadata": {},
   "source": [
    "Informe o diretório de plot:"
   ]
  },
  {
   "cell_type": "code",
   "execution_count": 17,
   "metadata": {},
   "outputs": [
    {
     "name": "stdout",
     "output_type": "stream",
     "text": [
      "/home/dario/PoissonPlot/Plots\n"
     ]
    }
   ],
   "source": [
    "# Changing Working Directory - Linux\n",
    "opath = \"/home/dario/PoissonPlot/Plots/\" \n",
    "%cd $opath"
   ]
  },
  {
   "cell_type": "raw",
   "metadata": {},
   "source": [
    "# Changing Working Directory - Windows\n",
    "opath = \"C:\\\\Users\\\\danie\\\\Daniel\\\\PlotCampaignResults-NrMmtc_v7\" \n",
    "\n",
    "%cd $opath"
   ]
  },
  {
   "cell_type": "markdown",
   "metadata": {},
   "source": [
    "### Prova: Poisson Traffic - OnOffTrace\n",
    "\n",
    "Defina as variáveis:\n",
    "\n",
    "1. CampaignName: diretório das simulações\n",
    "2. Jobs: a simulação irá carregar apenas 1 job;\n",
    "3. nsims: informe quantas simulações há em 1 job."
   ]
  },
  {
   "cell_type": "code",
   "execution_count": 143,
   "metadata": {},
   "outputs": [],
   "source": [
    "CampaignName = 'results_cluster_LteTodo24_SimPerScriptCampaing_Lambda/'\n",
    "Jobs = 10\n",
    "nsims = 36"
   ]
  },
  {
   "cell_type": "code",
   "execution_count": 144,
   "metadata": {
    "scrolled": true
   },
   "outputs": [
    {
     "name": "stdout",
     "output_type": "stream",
     "text": [
      "/home/dario/PoissonPlot/Plots/results_cluster_LteTodo24_SimPerScriptCampaing_Lambda/JOB0/Sim_0/TxSentTrace.txt\n",
      "/home/dario/PoissonPlot/Plots/results_cluster_LteTodo24_SimPerScriptCampaing_Lambda/JOB0/Sim_1/TxSentTrace.txt\n",
      "/home/dario/PoissonPlot/Plots/results_cluster_LteTodo24_SimPerScriptCampaing_Lambda/JOB0/Sim_2/TxSentTrace.txt\n",
      "/home/dario/PoissonPlot/Plots/results_cluster_LteTodo24_SimPerScriptCampaing_Lambda/JOB0/Sim_3/TxSentTrace.txt\n",
      "/home/dario/PoissonPlot/Plots/results_cluster_LteTodo24_SimPerScriptCampaing_Lambda/JOB0/Sim_4/TxSentTrace.txt\n",
      "/home/dario/PoissonPlot/Plots/results_cluster_LteTodo24_SimPerScriptCampaing_Lambda/JOB0/Sim_5/TxSentTrace.txt\n",
      "/home/dario/PoissonPlot/Plots/results_cluster_LteTodo24_SimPerScriptCampaing_Lambda/JOB0/Sim_6/TxSentTrace.txt\n",
      "/home/dario/PoissonPlot/Plots/results_cluster_LteTodo24_SimPerScriptCampaing_Lambda/JOB0/Sim_7/TxSentTrace.txt\n",
      "/home/dario/PoissonPlot/Plots/results_cluster_LteTodo24_SimPerScriptCampaing_Lambda/JOB0/Sim_8/TxSentTrace.txt\n",
      "/home/dario/PoissonPlot/Plots/results_cluster_LteTodo24_SimPerScriptCampaing_Lambda/JOB0/Sim_9/TxSentTrace.txt\n",
      "/home/dario/PoissonPlot/Plots/results_cluster_LteTodo24_SimPerScriptCampaing_Lambda/JOB0/Sim_10/TxSentTrace.txt\n",
      "/home/dario/PoissonPlot/Plots/results_cluster_LteTodo24_SimPerScriptCampaing_Lambda/JOB0/Sim_11/TxSentTrace.txt\n",
      "/home/dario/PoissonPlot/Plots/results_cluster_LteTodo24_SimPerScriptCampaing_Lambda/JOB0/Sim_12/TxSentTrace.txt\n",
      "/home/dario/PoissonPlot/Plots/results_cluster_LteTodo24_SimPerScriptCampaing_Lambda/JOB0/Sim_13/TxSentTrace.txt\n",
      "/home/dario/PoissonPlot/Plots/results_cluster_LteTodo24_SimPerScriptCampaing_Lambda/JOB0/Sim_14/TxSentTrace.txt\n",
      "/home/dario/PoissonPlot/Plots/results_cluster_LteTodo24_SimPerScriptCampaing_Lambda/JOB0/Sim_15/TxSentTrace.txt\n",
      "/home/dario/PoissonPlot/Plots/results_cluster_LteTodo24_SimPerScriptCampaing_Lambda/JOB0/Sim_16/TxSentTrace.txt\n",
      "/home/dario/PoissonPlot/Plots/results_cluster_LteTodo24_SimPerScriptCampaing_Lambda/JOB0/Sim_17/TxSentTrace.txt\n",
      "/home/dario/PoissonPlot/Plots/results_cluster_LteTodo24_SimPerScriptCampaing_Lambda/JOB0/Sim_18/TxSentTrace.txt\n",
      "/home/dario/PoissonPlot/Plots/results_cluster_LteTodo24_SimPerScriptCampaing_Lambda/JOB0/Sim_19/TxSentTrace.txt\n",
      "/home/dario/PoissonPlot/Plots/results_cluster_LteTodo24_SimPerScriptCampaing_Lambda/JOB0/Sim_20/TxSentTrace.txt\n",
      "/home/dario/PoissonPlot/Plots/results_cluster_LteTodo24_SimPerScriptCampaing_Lambda/JOB0/Sim_21/TxSentTrace.txt\n",
      "/home/dario/PoissonPlot/Plots/results_cluster_LteTodo24_SimPerScriptCampaing_Lambda/JOB0/Sim_22/TxSentTrace.txt\n",
      "/home/dario/PoissonPlot/Plots/results_cluster_LteTodo24_SimPerScriptCampaing_Lambda/JOB0/Sim_23/TxSentTrace.txt\n",
      "/home/dario/PoissonPlot/Plots/results_cluster_LteTodo24_SimPerScriptCampaing_Lambda/JOB0/Sim_24/TxSentTrace.txt\n",
      "/home/dario/PoissonPlot/Plots/results_cluster_LteTodo24_SimPerScriptCampaing_Lambda/JOB0/Sim_25/TxSentTrace.txt\n",
      "/home/dario/PoissonPlot/Plots/results_cluster_LteTodo24_SimPerScriptCampaing_Lambda/JOB0/Sim_26/TxSentTrace.txt\n",
      "/home/dario/PoissonPlot/Plots/results_cluster_LteTodo24_SimPerScriptCampaing_Lambda/JOB0/Sim_27/TxSentTrace.txt\n",
      "/home/dario/PoissonPlot/Plots/results_cluster_LteTodo24_SimPerScriptCampaing_Lambda/JOB0/Sim_28/TxSentTrace.txt\n",
      "/home/dario/PoissonPlot/Plots/results_cluster_LteTodo24_SimPerScriptCampaing_Lambda/JOB0/Sim_29/TxSentTrace.txt\n",
      "/home/dario/PoissonPlot/Plots/results_cluster_LteTodo24_SimPerScriptCampaing_Lambda/JOB0/Sim_30/TxSentTrace.txt\n",
      "/home/dario/PoissonPlot/Plots/results_cluster_LteTodo24_SimPerScriptCampaing_Lambda/JOB0/Sim_31/TxSentTrace.txt\n",
      "/home/dario/PoissonPlot/Plots/results_cluster_LteTodo24_SimPerScriptCampaing_Lambda/JOB0/Sim_32/TxSentTrace.txt\n",
      "/home/dario/PoissonPlot/Plots/results_cluster_LteTodo24_SimPerScriptCampaing_Lambda/JOB0/Sim_33/TxSentTrace.txt\n",
      "/home/dario/PoissonPlot/Plots/results_cluster_LteTodo24_SimPerScriptCampaing_Lambda/JOB0/Sim_34/TxSentTrace.txt\n",
      "/home/dario/PoissonPlot/Plots/results_cluster_LteTodo24_SimPerScriptCampaing_Lambda/JOB0/Sim_35/TxSentTrace.txt\n",
      "/home/dario/PoissonPlot/Plots/results_cluster_LteTodo24_SimPerScriptCampaing_Lambda/JOB1/Sim_0/TxSentTrace.txt\n",
      "/home/dario/PoissonPlot/Plots/results_cluster_LteTodo24_SimPerScriptCampaing_Lambda/JOB1/Sim_1/TxSentTrace.txt\n",
      "/home/dario/PoissonPlot/Plots/results_cluster_LteTodo24_SimPerScriptCampaing_Lambda/JOB1/Sim_2/TxSentTrace.txt\n",
      "/home/dario/PoissonPlot/Plots/results_cluster_LteTodo24_SimPerScriptCampaing_Lambda/JOB1/Sim_3/TxSentTrace.txt\n",
      "/home/dario/PoissonPlot/Plots/results_cluster_LteTodo24_SimPerScriptCampaing_Lambda/JOB1/Sim_4/TxSentTrace.txt\n",
      "/home/dario/PoissonPlot/Plots/results_cluster_LteTodo24_SimPerScriptCampaing_Lambda/JOB1/Sim_5/TxSentTrace.txt\n",
      "/home/dario/PoissonPlot/Plots/results_cluster_LteTodo24_SimPerScriptCampaing_Lambda/JOB1/Sim_6/TxSentTrace.txt\n",
      "/home/dario/PoissonPlot/Plots/results_cluster_LteTodo24_SimPerScriptCampaing_Lambda/JOB1/Sim_7/TxSentTrace.txt\n",
      "/home/dario/PoissonPlot/Plots/results_cluster_LteTodo24_SimPerScriptCampaing_Lambda/JOB1/Sim_8/TxSentTrace.txt\n",
      "/home/dario/PoissonPlot/Plots/results_cluster_LteTodo24_SimPerScriptCampaing_Lambda/JOB1/Sim_9/TxSentTrace.txt\n",
      "/home/dario/PoissonPlot/Plots/results_cluster_LteTodo24_SimPerScriptCampaing_Lambda/JOB1/Sim_10/TxSentTrace.txt\n",
      "/home/dario/PoissonPlot/Plots/results_cluster_LteTodo24_SimPerScriptCampaing_Lambda/JOB1/Sim_11/TxSentTrace.txt\n",
      "/home/dario/PoissonPlot/Plots/results_cluster_LteTodo24_SimPerScriptCampaing_Lambda/JOB1/Sim_12/TxSentTrace.txt\n",
      "/home/dario/PoissonPlot/Plots/results_cluster_LteTodo24_SimPerScriptCampaing_Lambda/JOB1/Sim_13/TxSentTrace.txt\n",
      "/home/dario/PoissonPlot/Plots/results_cluster_LteTodo24_SimPerScriptCampaing_Lambda/JOB1/Sim_14/TxSentTrace.txt\n",
      "/home/dario/PoissonPlot/Plots/results_cluster_LteTodo24_SimPerScriptCampaing_Lambda/JOB1/Sim_15/TxSentTrace.txt\n",
      "/home/dario/PoissonPlot/Plots/results_cluster_LteTodo24_SimPerScriptCampaing_Lambda/JOB1/Sim_16/TxSentTrace.txt\n",
      "/home/dario/PoissonPlot/Plots/results_cluster_LteTodo24_SimPerScriptCampaing_Lambda/JOB1/Sim_17/TxSentTrace.txt\n",
      "/home/dario/PoissonPlot/Plots/results_cluster_LteTodo24_SimPerScriptCampaing_Lambda/JOB1/Sim_18/TxSentTrace.txt\n",
      "/home/dario/PoissonPlot/Plots/results_cluster_LteTodo24_SimPerScriptCampaing_Lambda/JOB1/Sim_19/TxSentTrace.txt\n",
      "/home/dario/PoissonPlot/Plots/results_cluster_LteTodo24_SimPerScriptCampaing_Lambda/JOB1/Sim_20/TxSentTrace.txt\n",
      "/home/dario/PoissonPlot/Plots/results_cluster_LteTodo24_SimPerScriptCampaing_Lambda/JOB1/Sim_21/TxSentTrace.txt\n",
      "/home/dario/PoissonPlot/Plots/results_cluster_LteTodo24_SimPerScriptCampaing_Lambda/JOB1/Sim_22/TxSentTrace.txt\n",
      "/home/dario/PoissonPlot/Plots/results_cluster_LteTodo24_SimPerScriptCampaing_Lambda/JOB1/Sim_23/TxSentTrace.txt\n",
      "/home/dario/PoissonPlot/Plots/results_cluster_LteTodo24_SimPerScriptCampaing_Lambda/JOB1/Sim_24/TxSentTrace.txt\n",
      "/home/dario/PoissonPlot/Plots/results_cluster_LteTodo24_SimPerScriptCampaing_Lambda/JOB1/Sim_25/TxSentTrace.txt\n",
      "/home/dario/PoissonPlot/Plots/results_cluster_LteTodo24_SimPerScriptCampaing_Lambda/JOB1/Sim_26/TxSentTrace.txt\n",
      "/home/dario/PoissonPlot/Plots/results_cluster_LteTodo24_SimPerScriptCampaing_Lambda/JOB1/Sim_27/TxSentTrace.txt\n",
      "/home/dario/PoissonPlot/Plots/results_cluster_LteTodo24_SimPerScriptCampaing_Lambda/JOB1/Sim_28/TxSentTrace.txt\n",
      "/home/dario/PoissonPlot/Plots/results_cluster_LteTodo24_SimPerScriptCampaing_Lambda/JOB1/Sim_29/TxSentTrace.txt\n",
      "/home/dario/PoissonPlot/Plots/results_cluster_LteTodo24_SimPerScriptCampaing_Lambda/JOB1/Sim_30/TxSentTrace.txt\n",
      "/home/dario/PoissonPlot/Plots/results_cluster_LteTodo24_SimPerScriptCampaing_Lambda/JOB1/Sim_31/TxSentTrace.txt\n",
      "/home/dario/PoissonPlot/Plots/results_cluster_LteTodo24_SimPerScriptCampaing_Lambda/JOB1/Sim_32/TxSentTrace.txt\n",
      "/home/dario/PoissonPlot/Plots/results_cluster_LteTodo24_SimPerScriptCampaing_Lambda/JOB1/Sim_33/TxSentTrace.txt\n",
      "/home/dario/PoissonPlot/Plots/results_cluster_LteTodo24_SimPerScriptCampaing_Lambda/JOB1/Sim_34/TxSentTrace.txt\n",
      "/home/dario/PoissonPlot/Plots/results_cluster_LteTodo24_SimPerScriptCampaing_Lambda/JOB1/Sim_35/TxSentTrace.txt\n",
      "/home/dario/PoissonPlot/Plots/results_cluster_LteTodo24_SimPerScriptCampaing_Lambda/JOB2/Sim_0/TxSentTrace.txt\n",
      "/home/dario/PoissonPlot/Plots/results_cluster_LteTodo24_SimPerScriptCampaing_Lambda/JOB2/Sim_1/TxSentTrace.txt\n",
      "/home/dario/PoissonPlot/Plots/results_cluster_LteTodo24_SimPerScriptCampaing_Lambda/JOB2/Sim_2/TxSentTrace.txt\n",
      "/home/dario/PoissonPlot/Plots/results_cluster_LteTodo24_SimPerScriptCampaing_Lambda/JOB2/Sim_3/TxSentTrace.txt\n",
      "/home/dario/PoissonPlot/Plots/results_cluster_LteTodo24_SimPerScriptCampaing_Lambda/JOB2/Sim_4/TxSentTrace.txt\n",
      "/home/dario/PoissonPlot/Plots/results_cluster_LteTodo24_SimPerScriptCampaing_Lambda/JOB2/Sim_5/TxSentTrace.txt\n",
      "/home/dario/PoissonPlot/Plots/results_cluster_LteTodo24_SimPerScriptCampaing_Lambda/JOB2/Sim_6/TxSentTrace.txt\n",
      "/home/dario/PoissonPlot/Plots/results_cluster_LteTodo24_SimPerScriptCampaing_Lambda/JOB2/Sim_7/TxSentTrace.txt\n",
      "/home/dario/PoissonPlot/Plots/results_cluster_LteTodo24_SimPerScriptCampaing_Lambda/JOB2/Sim_8/TxSentTrace.txt\n",
      "/home/dario/PoissonPlot/Plots/results_cluster_LteTodo24_SimPerScriptCampaing_Lambda/JOB2/Sim_9/TxSentTrace.txt\n",
      "/home/dario/PoissonPlot/Plots/results_cluster_LteTodo24_SimPerScriptCampaing_Lambda/JOB2/Sim_10/TxSentTrace.txt\n",
      "/home/dario/PoissonPlot/Plots/results_cluster_LteTodo24_SimPerScriptCampaing_Lambda/JOB2/Sim_11/TxSentTrace.txt\n",
      "/home/dario/PoissonPlot/Plots/results_cluster_LteTodo24_SimPerScriptCampaing_Lambda/JOB2/Sim_12/TxSentTrace.txt\n",
      "/home/dario/PoissonPlot/Plots/results_cluster_LteTodo24_SimPerScriptCampaing_Lambda/JOB2/Sim_13/TxSentTrace.txt\n",
      "/home/dario/PoissonPlot/Plots/results_cluster_LteTodo24_SimPerScriptCampaing_Lambda/JOB2/Sim_14/TxSentTrace.txt\n",
      "/home/dario/PoissonPlot/Plots/results_cluster_LteTodo24_SimPerScriptCampaing_Lambda/JOB2/Sim_15/TxSentTrace.txt\n",
      "/home/dario/PoissonPlot/Plots/results_cluster_LteTodo24_SimPerScriptCampaing_Lambda/JOB2/Sim_16/TxSentTrace.txt\n",
      "/home/dario/PoissonPlot/Plots/results_cluster_LteTodo24_SimPerScriptCampaing_Lambda/JOB2/Sim_17/TxSentTrace.txt\n",
      "/home/dario/PoissonPlot/Plots/results_cluster_LteTodo24_SimPerScriptCampaing_Lambda/JOB2/Sim_18/TxSentTrace.txt\n",
      "/home/dario/PoissonPlot/Plots/results_cluster_LteTodo24_SimPerScriptCampaing_Lambda/JOB2/Sim_19/TxSentTrace.txt\n"
     ]
    },
    {
     "name": "stdout",
     "output_type": "stream",
     "text": [
      "/home/dario/PoissonPlot/Plots/results_cluster_LteTodo24_SimPerScriptCampaing_Lambda/JOB2/Sim_20/TxSentTrace.txt\n",
      "/home/dario/PoissonPlot/Plots/results_cluster_LteTodo24_SimPerScriptCampaing_Lambda/JOB2/Sim_21/TxSentTrace.txt\n",
      "/home/dario/PoissonPlot/Plots/results_cluster_LteTodo24_SimPerScriptCampaing_Lambda/JOB2/Sim_22/TxSentTrace.txt\n",
      "/home/dario/PoissonPlot/Plots/results_cluster_LteTodo24_SimPerScriptCampaing_Lambda/JOB2/Sim_23/TxSentTrace.txt\n",
      "/home/dario/PoissonPlot/Plots/results_cluster_LteTodo24_SimPerScriptCampaing_Lambda/JOB2/Sim_24/TxSentTrace.txt\n",
      "/home/dario/PoissonPlot/Plots/results_cluster_LteTodo24_SimPerScriptCampaing_Lambda/JOB2/Sim_25/TxSentTrace.txt\n",
      "/home/dario/PoissonPlot/Plots/results_cluster_LteTodo24_SimPerScriptCampaing_Lambda/JOB2/Sim_26/TxSentTrace.txt\n",
      "/home/dario/PoissonPlot/Plots/results_cluster_LteTodo24_SimPerScriptCampaing_Lambda/JOB2/Sim_27/TxSentTrace.txt\n",
      "/home/dario/PoissonPlot/Plots/results_cluster_LteTodo24_SimPerScriptCampaing_Lambda/JOB2/Sim_28/TxSentTrace.txt\n",
      "/home/dario/PoissonPlot/Plots/results_cluster_LteTodo24_SimPerScriptCampaing_Lambda/JOB2/Sim_29/TxSentTrace.txt\n",
      "/home/dario/PoissonPlot/Plots/results_cluster_LteTodo24_SimPerScriptCampaing_Lambda/JOB2/Sim_30/TxSentTrace.txt\n",
      "/home/dario/PoissonPlot/Plots/results_cluster_LteTodo24_SimPerScriptCampaing_Lambda/JOB2/Sim_31/TxSentTrace.txt\n",
      "/home/dario/PoissonPlot/Plots/results_cluster_LteTodo24_SimPerScriptCampaing_Lambda/JOB2/Sim_32/TxSentTrace.txt\n",
      "/home/dario/PoissonPlot/Plots/results_cluster_LteTodo24_SimPerScriptCampaing_Lambda/JOB2/Sim_33/TxSentTrace.txt\n",
      "/home/dario/PoissonPlot/Plots/results_cluster_LteTodo24_SimPerScriptCampaing_Lambda/JOB2/Sim_34/TxSentTrace.txt\n",
      "/home/dario/PoissonPlot/Plots/results_cluster_LteTodo24_SimPerScriptCampaing_Lambda/JOB2/Sim_35/TxSentTrace.txt\n",
      "/home/dario/PoissonPlot/Plots/results_cluster_LteTodo24_SimPerScriptCampaing_Lambda/JOB3/Sim_0/TxSentTrace.txt\n",
      "/home/dario/PoissonPlot/Plots/results_cluster_LteTodo24_SimPerScriptCampaing_Lambda/JOB3/Sim_1/TxSentTrace.txt\n",
      "/home/dario/PoissonPlot/Plots/results_cluster_LteTodo24_SimPerScriptCampaing_Lambda/JOB3/Sim_2/TxSentTrace.txt\n",
      "/home/dario/PoissonPlot/Plots/results_cluster_LteTodo24_SimPerScriptCampaing_Lambda/JOB3/Sim_3/TxSentTrace.txt\n",
      "/home/dario/PoissonPlot/Plots/results_cluster_LteTodo24_SimPerScriptCampaing_Lambda/JOB3/Sim_4/TxSentTrace.txt\n",
      "/home/dario/PoissonPlot/Plots/results_cluster_LteTodo24_SimPerScriptCampaing_Lambda/JOB3/Sim_5/TxSentTrace.txt\n",
      "/home/dario/PoissonPlot/Plots/results_cluster_LteTodo24_SimPerScriptCampaing_Lambda/JOB3/Sim_6/TxSentTrace.txt\n",
      "/home/dario/PoissonPlot/Plots/results_cluster_LteTodo24_SimPerScriptCampaing_Lambda/JOB3/Sim_7/TxSentTrace.txt\n",
      "/home/dario/PoissonPlot/Plots/results_cluster_LteTodo24_SimPerScriptCampaing_Lambda/JOB3/Sim_8/TxSentTrace.txt\n",
      "/home/dario/PoissonPlot/Plots/results_cluster_LteTodo24_SimPerScriptCampaing_Lambda/JOB3/Sim_9/TxSentTrace.txt\n",
      "/home/dario/PoissonPlot/Plots/results_cluster_LteTodo24_SimPerScriptCampaing_Lambda/JOB3/Sim_10/TxSentTrace.txt\n",
      "/home/dario/PoissonPlot/Plots/results_cluster_LteTodo24_SimPerScriptCampaing_Lambda/JOB3/Sim_11/TxSentTrace.txt\n",
      "/home/dario/PoissonPlot/Plots/results_cluster_LteTodo24_SimPerScriptCampaing_Lambda/JOB3/Sim_12/TxSentTrace.txt\n",
      "/home/dario/PoissonPlot/Plots/results_cluster_LteTodo24_SimPerScriptCampaing_Lambda/JOB3/Sim_13/TxSentTrace.txt\n",
      "/home/dario/PoissonPlot/Plots/results_cluster_LteTodo24_SimPerScriptCampaing_Lambda/JOB3/Sim_14/TxSentTrace.txt\n",
      "/home/dario/PoissonPlot/Plots/results_cluster_LteTodo24_SimPerScriptCampaing_Lambda/JOB3/Sim_15/TxSentTrace.txt\n",
      "/home/dario/PoissonPlot/Plots/results_cluster_LteTodo24_SimPerScriptCampaing_Lambda/JOB3/Sim_16/TxSentTrace.txt\n",
      "/home/dario/PoissonPlot/Plots/results_cluster_LteTodo24_SimPerScriptCampaing_Lambda/JOB3/Sim_17/TxSentTrace.txt\n",
      "/home/dario/PoissonPlot/Plots/results_cluster_LteTodo24_SimPerScriptCampaing_Lambda/JOB3/Sim_18/TxSentTrace.txt\n",
      "/home/dario/PoissonPlot/Plots/results_cluster_LteTodo24_SimPerScriptCampaing_Lambda/JOB3/Sim_19/TxSentTrace.txt\n",
      "/home/dario/PoissonPlot/Plots/results_cluster_LteTodo24_SimPerScriptCampaing_Lambda/JOB3/Sim_20/TxSentTrace.txt\n",
      "/home/dario/PoissonPlot/Plots/results_cluster_LteTodo24_SimPerScriptCampaing_Lambda/JOB3/Sim_21/TxSentTrace.txt\n",
      "/home/dario/PoissonPlot/Plots/results_cluster_LteTodo24_SimPerScriptCampaing_Lambda/JOB3/Sim_22/TxSentTrace.txt\n",
      "/home/dario/PoissonPlot/Plots/results_cluster_LteTodo24_SimPerScriptCampaing_Lambda/JOB3/Sim_23/TxSentTrace.txt\n",
      "/home/dario/PoissonPlot/Plots/results_cluster_LteTodo24_SimPerScriptCampaing_Lambda/JOB3/Sim_24/TxSentTrace.txt\n",
      "/home/dario/PoissonPlot/Plots/results_cluster_LteTodo24_SimPerScriptCampaing_Lambda/JOB3/Sim_25/TxSentTrace.txt\n",
      "/home/dario/PoissonPlot/Plots/results_cluster_LteTodo24_SimPerScriptCampaing_Lambda/JOB3/Sim_26/TxSentTrace.txt\n",
      "/home/dario/PoissonPlot/Plots/results_cluster_LteTodo24_SimPerScriptCampaing_Lambda/JOB3/Sim_27/TxSentTrace.txt\n",
      "/home/dario/PoissonPlot/Plots/results_cluster_LteTodo24_SimPerScriptCampaing_Lambda/JOB3/Sim_28/TxSentTrace.txt\n",
      "/home/dario/PoissonPlot/Plots/results_cluster_LteTodo24_SimPerScriptCampaing_Lambda/JOB3/Sim_29/TxSentTrace.txt\n",
      "/home/dario/PoissonPlot/Plots/results_cluster_LteTodo24_SimPerScriptCampaing_Lambda/JOB3/Sim_30/TxSentTrace.txt\n",
      "/home/dario/PoissonPlot/Plots/results_cluster_LteTodo24_SimPerScriptCampaing_Lambda/JOB3/Sim_31/TxSentTrace.txt\n",
      "/home/dario/PoissonPlot/Plots/results_cluster_LteTodo24_SimPerScriptCampaing_Lambda/JOB3/Sim_32/TxSentTrace.txt\n",
      "/home/dario/PoissonPlot/Plots/results_cluster_LteTodo24_SimPerScriptCampaing_Lambda/JOB3/Sim_33/TxSentTrace.txt\n",
      "/home/dario/PoissonPlot/Plots/results_cluster_LteTodo24_SimPerScriptCampaing_Lambda/JOB3/Sim_34/TxSentTrace.txt\n",
      "/home/dario/PoissonPlot/Plots/results_cluster_LteTodo24_SimPerScriptCampaing_Lambda/JOB3/Sim_35/TxSentTrace.txt\n",
      "/home/dario/PoissonPlot/Plots/results_cluster_LteTodo24_SimPerScriptCampaing_Lambda/JOB4/Sim_0/TxSentTrace.txt\n",
      "/home/dario/PoissonPlot/Plots/results_cluster_LteTodo24_SimPerScriptCampaing_Lambda/JOB4/Sim_1/TxSentTrace.txt\n",
      "/home/dario/PoissonPlot/Plots/results_cluster_LteTodo24_SimPerScriptCampaing_Lambda/JOB4/Sim_2/TxSentTrace.txt\n",
      "/home/dario/PoissonPlot/Plots/results_cluster_LteTodo24_SimPerScriptCampaing_Lambda/JOB4/Sim_3/TxSentTrace.txt\n",
      "/home/dario/PoissonPlot/Plots/results_cluster_LteTodo24_SimPerScriptCampaing_Lambda/JOB4/Sim_4/TxSentTrace.txt\n",
      "/home/dario/PoissonPlot/Plots/results_cluster_LteTodo24_SimPerScriptCampaing_Lambda/JOB4/Sim_5/TxSentTrace.txt\n",
      "/home/dario/PoissonPlot/Plots/results_cluster_LteTodo24_SimPerScriptCampaing_Lambda/JOB4/Sim_6/TxSentTrace.txt\n",
      "/home/dario/PoissonPlot/Plots/results_cluster_LteTodo24_SimPerScriptCampaing_Lambda/JOB4/Sim_7/TxSentTrace.txt\n",
      "/home/dario/PoissonPlot/Plots/results_cluster_LteTodo24_SimPerScriptCampaing_Lambda/JOB4/Sim_8/TxSentTrace.txt\n",
      "/home/dario/PoissonPlot/Plots/results_cluster_LteTodo24_SimPerScriptCampaing_Lambda/JOB4/Sim_9/TxSentTrace.txt\n",
      "/home/dario/PoissonPlot/Plots/results_cluster_LteTodo24_SimPerScriptCampaing_Lambda/JOB4/Sim_10/TxSentTrace.txt\n",
      "/home/dario/PoissonPlot/Plots/results_cluster_LteTodo24_SimPerScriptCampaing_Lambda/JOB4/Sim_11/TxSentTrace.txt\n",
      "/home/dario/PoissonPlot/Plots/results_cluster_LteTodo24_SimPerScriptCampaing_Lambda/JOB4/Sim_12/TxSentTrace.txt\n",
      "/home/dario/PoissonPlot/Plots/results_cluster_LteTodo24_SimPerScriptCampaing_Lambda/JOB4/Sim_13/TxSentTrace.txt\n",
      "/home/dario/PoissonPlot/Plots/results_cluster_LteTodo24_SimPerScriptCampaing_Lambda/JOB4/Sim_14/TxSentTrace.txt\n",
      "/home/dario/PoissonPlot/Plots/results_cluster_LteTodo24_SimPerScriptCampaing_Lambda/JOB4/Sim_15/TxSentTrace.txt\n",
      "/home/dario/PoissonPlot/Plots/results_cluster_LteTodo24_SimPerScriptCampaing_Lambda/JOB4/Sim_16/TxSentTrace.txt\n",
      "/home/dario/PoissonPlot/Plots/results_cluster_LteTodo24_SimPerScriptCampaing_Lambda/JOB4/Sim_17/TxSentTrace.txt\n",
      "/home/dario/PoissonPlot/Plots/results_cluster_LteTodo24_SimPerScriptCampaing_Lambda/JOB4/Sim_18/TxSentTrace.txt\n",
      "/home/dario/PoissonPlot/Plots/results_cluster_LteTodo24_SimPerScriptCampaing_Lambda/JOB4/Sim_19/TxSentTrace.txt\n",
      "/home/dario/PoissonPlot/Plots/results_cluster_LteTodo24_SimPerScriptCampaing_Lambda/JOB4/Sim_20/TxSentTrace.txt\n",
      "/home/dario/PoissonPlot/Plots/results_cluster_LteTodo24_SimPerScriptCampaing_Lambda/JOB4/Sim_21/TxSentTrace.txt\n",
      "/home/dario/PoissonPlot/Plots/results_cluster_LteTodo24_SimPerScriptCampaing_Lambda/JOB4/Sim_22/TxSentTrace.txt\n",
      "/home/dario/PoissonPlot/Plots/results_cluster_LteTodo24_SimPerScriptCampaing_Lambda/JOB4/Sim_23/TxSentTrace.txt\n",
      "/home/dario/PoissonPlot/Plots/results_cluster_LteTodo24_SimPerScriptCampaing_Lambda/JOB4/Sim_24/TxSentTrace.txt\n",
      "/home/dario/PoissonPlot/Plots/results_cluster_LteTodo24_SimPerScriptCampaing_Lambda/JOB4/Sim_25/TxSentTrace.txt\n",
      "/home/dario/PoissonPlot/Plots/results_cluster_LteTodo24_SimPerScriptCampaing_Lambda/JOB4/Sim_26/TxSentTrace.txt\n",
      "/home/dario/PoissonPlot/Plots/results_cluster_LteTodo24_SimPerScriptCampaing_Lambda/JOB4/Sim_27/TxSentTrace.txt\n",
      "/home/dario/PoissonPlot/Plots/results_cluster_LteTodo24_SimPerScriptCampaing_Lambda/JOB4/Sim_28/TxSentTrace.txt\n",
      "/home/dario/PoissonPlot/Plots/results_cluster_LteTodo24_SimPerScriptCampaing_Lambda/JOB4/Sim_29/TxSentTrace.txt\n",
      "/home/dario/PoissonPlot/Plots/results_cluster_LteTodo24_SimPerScriptCampaing_Lambda/JOB4/Sim_30/TxSentTrace.txt\n",
      "/home/dario/PoissonPlot/Plots/results_cluster_LteTodo24_SimPerScriptCampaing_Lambda/JOB4/Sim_31/TxSentTrace.txt\n",
      "/home/dario/PoissonPlot/Plots/results_cluster_LteTodo24_SimPerScriptCampaing_Lambda/JOB4/Sim_32/TxSentTrace.txt\n",
      "/home/dario/PoissonPlot/Plots/results_cluster_LteTodo24_SimPerScriptCampaing_Lambda/JOB4/Sim_33/TxSentTrace.txt\n",
      "/home/dario/PoissonPlot/Plots/results_cluster_LteTodo24_SimPerScriptCampaing_Lambda/JOB4/Sim_34/TxSentTrace.txt\n",
      "/home/dario/PoissonPlot/Plots/results_cluster_LteTodo24_SimPerScriptCampaing_Lambda/JOB4/Sim_35/TxSentTrace.txt\n",
      "/home/dario/PoissonPlot/Plots/results_cluster_LteTodo24_SimPerScriptCampaing_Lambda/JOB5/Sim_0/TxSentTrace.txt\n"
     ]
    },
    {
     "name": "stdout",
     "output_type": "stream",
     "text": [
      "/home/dario/PoissonPlot/Plots/results_cluster_LteTodo24_SimPerScriptCampaing_Lambda/JOB5/Sim_1/TxSentTrace.txt\n",
      "/home/dario/PoissonPlot/Plots/results_cluster_LteTodo24_SimPerScriptCampaing_Lambda/JOB5/Sim_2/TxSentTrace.txt\n",
      "/home/dario/PoissonPlot/Plots/results_cluster_LteTodo24_SimPerScriptCampaing_Lambda/JOB5/Sim_3/TxSentTrace.txt\n",
      "/home/dario/PoissonPlot/Plots/results_cluster_LteTodo24_SimPerScriptCampaing_Lambda/JOB5/Sim_4/TxSentTrace.txt\n",
      "/home/dario/PoissonPlot/Plots/results_cluster_LteTodo24_SimPerScriptCampaing_Lambda/JOB5/Sim_5/TxSentTrace.txt\n",
      "/home/dario/PoissonPlot/Plots/results_cluster_LteTodo24_SimPerScriptCampaing_Lambda/JOB5/Sim_6/TxSentTrace.txt\n",
      "/home/dario/PoissonPlot/Plots/results_cluster_LteTodo24_SimPerScriptCampaing_Lambda/JOB5/Sim_7/TxSentTrace.txt\n",
      "/home/dario/PoissonPlot/Plots/results_cluster_LteTodo24_SimPerScriptCampaing_Lambda/JOB5/Sim_8/TxSentTrace.txt\n",
      "/home/dario/PoissonPlot/Plots/results_cluster_LteTodo24_SimPerScriptCampaing_Lambda/JOB5/Sim_9/TxSentTrace.txt\n",
      "/home/dario/PoissonPlot/Plots/results_cluster_LteTodo24_SimPerScriptCampaing_Lambda/JOB5/Sim_10/TxSentTrace.txt\n",
      "/home/dario/PoissonPlot/Plots/results_cluster_LteTodo24_SimPerScriptCampaing_Lambda/JOB5/Sim_11/TxSentTrace.txt\n",
      "/home/dario/PoissonPlot/Plots/results_cluster_LteTodo24_SimPerScriptCampaing_Lambda/JOB5/Sim_12/TxSentTrace.txt\n",
      "/home/dario/PoissonPlot/Plots/results_cluster_LteTodo24_SimPerScriptCampaing_Lambda/JOB5/Sim_13/TxSentTrace.txt\n",
      "/home/dario/PoissonPlot/Plots/results_cluster_LteTodo24_SimPerScriptCampaing_Lambda/JOB5/Sim_14/TxSentTrace.txt\n",
      "/home/dario/PoissonPlot/Plots/results_cluster_LteTodo24_SimPerScriptCampaing_Lambda/JOB5/Sim_15/TxSentTrace.txt\n",
      "/home/dario/PoissonPlot/Plots/results_cluster_LteTodo24_SimPerScriptCampaing_Lambda/JOB5/Sim_16/TxSentTrace.txt\n",
      "/home/dario/PoissonPlot/Plots/results_cluster_LteTodo24_SimPerScriptCampaing_Lambda/JOB5/Sim_17/TxSentTrace.txt\n",
      "/home/dario/PoissonPlot/Plots/results_cluster_LteTodo24_SimPerScriptCampaing_Lambda/JOB5/Sim_18/TxSentTrace.txt\n",
      "/home/dario/PoissonPlot/Plots/results_cluster_LteTodo24_SimPerScriptCampaing_Lambda/JOB5/Sim_19/TxSentTrace.txt\n",
      "/home/dario/PoissonPlot/Plots/results_cluster_LteTodo24_SimPerScriptCampaing_Lambda/JOB5/Sim_20/TxSentTrace.txt\n",
      "/home/dario/PoissonPlot/Plots/results_cluster_LteTodo24_SimPerScriptCampaing_Lambda/JOB5/Sim_21/TxSentTrace.txt\n",
      "/home/dario/PoissonPlot/Plots/results_cluster_LteTodo24_SimPerScriptCampaing_Lambda/JOB5/Sim_22/TxSentTrace.txt\n",
      "/home/dario/PoissonPlot/Plots/results_cluster_LteTodo24_SimPerScriptCampaing_Lambda/JOB5/Sim_23/TxSentTrace.txt\n",
      "/home/dario/PoissonPlot/Plots/results_cluster_LteTodo24_SimPerScriptCampaing_Lambda/JOB5/Sim_24/TxSentTrace.txt\n",
      "/home/dario/PoissonPlot/Plots/results_cluster_LteTodo24_SimPerScriptCampaing_Lambda/JOB5/Sim_25/TxSentTrace.txt\n",
      "/home/dario/PoissonPlot/Plots/results_cluster_LteTodo24_SimPerScriptCampaing_Lambda/JOB5/Sim_26/TxSentTrace.txt\n",
      "/home/dario/PoissonPlot/Plots/results_cluster_LteTodo24_SimPerScriptCampaing_Lambda/JOB5/Sim_27/TxSentTrace.txt\n",
      "/home/dario/PoissonPlot/Plots/results_cluster_LteTodo24_SimPerScriptCampaing_Lambda/JOB5/Sim_28/TxSentTrace.txt\n",
      "/home/dario/PoissonPlot/Plots/results_cluster_LteTodo24_SimPerScriptCampaing_Lambda/JOB5/Sim_29/TxSentTrace.txt\n",
      "/home/dario/PoissonPlot/Plots/results_cluster_LteTodo24_SimPerScriptCampaing_Lambda/JOB5/Sim_30/TxSentTrace.txt\n",
      "/home/dario/PoissonPlot/Plots/results_cluster_LteTodo24_SimPerScriptCampaing_Lambda/JOB5/Sim_31/TxSentTrace.txt\n",
      "/home/dario/PoissonPlot/Plots/results_cluster_LteTodo24_SimPerScriptCampaing_Lambda/JOB5/Sim_32/TxSentTrace.txt\n",
      "/home/dario/PoissonPlot/Plots/results_cluster_LteTodo24_SimPerScriptCampaing_Lambda/JOB5/Sim_33/TxSentTrace.txt\n",
      "/home/dario/PoissonPlot/Plots/results_cluster_LteTodo24_SimPerScriptCampaing_Lambda/JOB5/Sim_34/TxSentTrace.txt\n",
      "/home/dario/PoissonPlot/Plots/results_cluster_LteTodo24_SimPerScriptCampaing_Lambda/JOB5/Sim_35/TxSentTrace.txt\n",
      "/home/dario/PoissonPlot/Plots/results_cluster_LteTodo24_SimPerScriptCampaing_Lambda/JOB6/Sim_0/TxSentTrace.txt\n",
      "/home/dario/PoissonPlot/Plots/results_cluster_LteTodo24_SimPerScriptCampaing_Lambda/JOB6/Sim_1/TxSentTrace.txt\n",
      "/home/dario/PoissonPlot/Plots/results_cluster_LteTodo24_SimPerScriptCampaing_Lambda/JOB6/Sim_2/TxSentTrace.txt\n",
      "/home/dario/PoissonPlot/Plots/results_cluster_LteTodo24_SimPerScriptCampaing_Lambda/JOB6/Sim_3/TxSentTrace.txt\n",
      "/home/dario/PoissonPlot/Plots/results_cluster_LteTodo24_SimPerScriptCampaing_Lambda/JOB6/Sim_4/TxSentTrace.txt\n",
      "/home/dario/PoissonPlot/Plots/results_cluster_LteTodo24_SimPerScriptCampaing_Lambda/JOB6/Sim_5/TxSentTrace.txt\n",
      "/home/dario/PoissonPlot/Plots/results_cluster_LteTodo24_SimPerScriptCampaing_Lambda/JOB6/Sim_6/TxSentTrace.txt\n",
      "/home/dario/PoissonPlot/Plots/results_cluster_LteTodo24_SimPerScriptCampaing_Lambda/JOB6/Sim_7/TxSentTrace.txt\n",
      "/home/dario/PoissonPlot/Plots/results_cluster_LteTodo24_SimPerScriptCampaing_Lambda/JOB6/Sim_8/TxSentTrace.txt\n",
      "/home/dario/PoissonPlot/Plots/results_cluster_LteTodo24_SimPerScriptCampaing_Lambda/JOB6/Sim_9/TxSentTrace.txt\n",
      "/home/dario/PoissonPlot/Plots/results_cluster_LteTodo24_SimPerScriptCampaing_Lambda/JOB6/Sim_10/TxSentTrace.txt\n",
      "/home/dario/PoissonPlot/Plots/results_cluster_LteTodo24_SimPerScriptCampaing_Lambda/JOB6/Sim_11/TxSentTrace.txt\n",
      "/home/dario/PoissonPlot/Plots/results_cluster_LteTodo24_SimPerScriptCampaing_Lambda/JOB6/Sim_12/TxSentTrace.txt\n",
      "/home/dario/PoissonPlot/Plots/results_cluster_LteTodo24_SimPerScriptCampaing_Lambda/JOB6/Sim_13/TxSentTrace.txt\n",
      "/home/dario/PoissonPlot/Plots/results_cluster_LteTodo24_SimPerScriptCampaing_Lambda/JOB6/Sim_14/TxSentTrace.txt\n",
      "/home/dario/PoissonPlot/Plots/results_cluster_LteTodo24_SimPerScriptCampaing_Lambda/JOB6/Sim_15/TxSentTrace.txt\n",
      "/home/dario/PoissonPlot/Plots/results_cluster_LteTodo24_SimPerScriptCampaing_Lambda/JOB6/Sim_16/TxSentTrace.txt\n",
      "/home/dario/PoissonPlot/Plots/results_cluster_LteTodo24_SimPerScriptCampaing_Lambda/JOB6/Sim_17/TxSentTrace.txt\n",
      "/home/dario/PoissonPlot/Plots/results_cluster_LteTodo24_SimPerScriptCampaing_Lambda/JOB6/Sim_18/TxSentTrace.txt\n",
      "/home/dario/PoissonPlot/Plots/results_cluster_LteTodo24_SimPerScriptCampaing_Lambda/JOB6/Sim_19/TxSentTrace.txt\n",
      "/home/dario/PoissonPlot/Plots/results_cluster_LteTodo24_SimPerScriptCampaing_Lambda/JOB6/Sim_20/TxSentTrace.txt\n",
      "/home/dario/PoissonPlot/Plots/results_cluster_LteTodo24_SimPerScriptCampaing_Lambda/JOB6/Sim_21/TxSentTrace.txt\n",
      "/home/dario/PoissonPlot/Plots/results_cluster_LteTodo24_SimPerScriptCampaing_Lambda/JOB6/Sim_22/TxSentTrace.txt\n",
      "/home/dario/PoissonPlot/Plots/results_cluster_LteTodo24_SimPerScriptCampaing_Lambda/JOB6/Sim_23/TxSentTrace.txt\n",
      "/home/dario/PoissonPlot/Plots/results_cluster_LteTodo24_SimPerScriptCampaing_Lambda/JOB6/Sim_24/TxSentTrace.txt\n",
      "/home/dario/PoissonPlot/Plots/results_cluster_LteTodo24_SimPerScriptCampaing_Lambda/JOB6/Sim_25/TxSentTrace.txt\n",
      "/home/dario/PoissonPlot/Plots/results_cluster_LteTodo24_SimPerScriptCampaing_Lambda/JOB6/Sim_26/TxSentTrace.txt\n",
      "/home/dario/PoissonPlot/Plots/results_cluster_LteTodo24_SimPerScriptCampaing_Lambda/JOB6/Sim_27/TxSentTrace.txt\n",
      "/home/dario/PoissonPlot/Plots/results_cluster_LteTodo24_SimPerScriptCampaing_Lambda/JOB6/Sim_28/TxSentTrace.txt\n",
      "/home/dario/PoissonPlot/Plots/results_cluster_LteTodo24_SimPerScriptCampaing_Lambda/JOB6/Sim_29/TxSentTrace.txt\n",
      "/home/dario/PoissonPlot/Plots/results_cluster_LteTodo24_SimPerScriptCampaing_Lambda/JOB6/Sim_30/TxSentTrace.txt\n",
      "/home/dario/PoissonPlot/Plots/results_cluster_LteTodo24_SimPerScriptCampaing_Lambda/JOB6/Sim_31/TxSentTrace.txt\n",
      "/home/dario/PoissonPlot/Plots/results_cluster_LteTodo24_SimPerScriptCampaing_Lambda/JOB6/Sim_32/TxSentTrace.txt\n",
      "/home/dario/PoissonPlot/Plots/results_cluster_LteTodo24_SimPerScriptCampaing_Lambda/JOB6/Sim_33/TxSentTrace.txt\n",
      "/home/dario/PoissonPlot/Plots/results_cluster_LteTodo24_SimPerScriptCampaing_Lambda/JOB6/Sim_34/TxSentTrace.txt\n",
      "/home/dario/PoissonPlot/Plots/results_cluster_LteTodo24_SimPerScriptCampaing_Lambda/JOB6/Sim_35/TxSentTrace.txt\n",
      "/home/dario/PoissonPlot/Plots/results_cluster_LteTodo24_SimPerScriptCampaing_Lambda/JOB7/Sim_0/TxSentTrace.txt\n",
      "/home/dario/PoissonPlot/Plots/results_cluster_LteTodo24_SimPerScriptCampaing_Lambda/JOB7/Sim_1/TxSentTrace.txt\n",
      "/home/dario/PoissonPlot/Plots/results_cluster_LteTodo24_SimPerScriptCampaing_Lambda/JOB7/Sim_2/TxSentTrace.txt\n",
      "/home/dario/PoissonPlot/Plots/results_cluster_LteTodo24_SimPerScriptCampaing_Lambda/JOB7/Sim_3/TxSentTrace.txt\n"
     ]
    },
    {
     "name": "stdout",
     "output_type": "stream",
     "text": [
      "/home/dario/PoissonPlot/Plots/results_cluster_LteTodo24_SimPerScriptCampaing_Lambda/JOB7/Sim_4/TxSentTrace.txt\n",
      "/home/dario/PoissonPlot/Plots/results_cluster_LteTodo24_SimPerScriptCampaing_Lambda/JOB7/Sim_5/TxSentTrace.txt\n",
      "/home/dario/PoissonPlot/Plots/results_cluster_LteTodo24_SimPerScriptCampaing_Lambda/JOB7/Sim_6/TxSentTrace.txt\n",
      "/home/dario/PoissonPlot/Plots/results_cluster_LteTodo24_SimPerScriptCampaing_Lambda/JOB7/Sim_7/TxSentTrace.txt\n",
      "/home/dario/PoissonPlot/Plots/results_cluster_LteTodo24_SimPerScriptCampaing_Lambda/JOB7/Sim_8/TxSentTrace.txt\n",
      "/home/dario/PoissonPlot/Plots/results_cluster_LteTodo24_SimPerScriptCampaing_Lambda/JOB7/Sim_9/TxSentTrace.txt\n",
      "/home/dario/PoissonPlot/Plots/results_cluster_LteTodo24_SimPerScriptCampaing_Lambda/JOB7/Sim_10/TxSentTrace.txt\n",
      "/home/dario/PoissonPlot/Plots/results_cluster_LteTodo24_SimPerScriptCampaing_Lambda/JOB7/Sim_11/TxSentTrace.txt\n",
      "/home/dario/PoissonPlot/Plots/results_cluster_LteTodo24_SimPerScriptCampaing_Lambda/JOB7/Sim_12/TxSentTrace.txt\n",
      "/home/dario/PoissonPlot/Plots/results_cluster_LteTodo24_SimPerScriptCampaing_Lambda/JOB7/Sim_13/TxSentTrace.txt\n",
      "/home/dario/PoissonPlot/Plots/results_cluster_LteTodo24_SimPerScriptCampaing_Lambda/JOB7/Sim_14/TxSentTrace.txt\n",
      "/home/dario/PoissonPlot/Plots/results_cluster_LteTodo24_SimPerScriptCampaing_Lambda/JOB7/Sim_15/TxSentTrace.txt\n",
      "/home/dario/PoissonPlot/Plots/results_cluster_LteTodo24_SimPerScriptCampaing_Lambda/JOB7/Sim_16/TxSentTrace.txt\n",
      "/home/dario/PoissonPlot/Plots/results_cluster_LteTodo24_SimPerScriptCampaing_Lambda/JOB7/Sim_17/TxSentTrace.txt\n",
      "/home/dario/PoissonPlot/Plots/results_cluster_LteTodo24_SimPerScriptCampaing_Lambda/JOB7/Sim_18/TxSentTrace.txt\n",
      "/home/dario/PoissonPlot/Plots/results_cluster_LteTodo24_SimPerScriptCampaing_Lambda/JOB7/Sim_19/TxSentTrace.txt\n",
      "/home/dario/PoissonPlot/Plots/results_cluster_LteTodo24_SimPerScriptCampaing_Lambda/JOB7/Sim_20/TxSentTrace.txt\n",
      "/home/dario/PoissonPlot/Plots/results_cluster_LteTodo24_SimPerScriptCampaing_Lambda/JOB7/Sim_21/TxSentTrace.txt\n",
      "/home/dario/PoissonPlot/Plots/results_cluster_LteTodo24_SimPerScriptCampaing_Lambda/JOB7/Sim_22/TxSentTrace.txt\n",
      "/home/dario/PoissonPlot/Plots/results_cluster_LteTodo24_SimPerScriptCampaing_Lambda/JOB7/Sim_23/TxSentTrace.txt\n",
      "/home/dario/PoissonPlot/Plots/results_cluster_LteTodo24_SimPerScriptCampaing_Lambda/JOB7/Sim_24/TxSentTrace.txt\n",
      "/home/dario/PoissonPlot/Plots/results_cluster_LteTodo24_SimPerScriptCampaing_Lambda/JOB7/Sim_25/TxSentTrace.txt\n",
      "/home/dario/PoissonPlot/Plots/results_cluster_LteTodo24_SimPerScriptCampaing_Lambda/JOB7/Sim_26/TxSentTrace.txt\n",
      "/home/dario/PoissonPlot/Plots/results_cluster_LteTodo24_SimPerScriptCampaing_Lambda/JOB7/Sim_27/TxSentTrace.txt\n",
      "/home/dario/PoissonPlot/Plots/results_cluster_LteTodo24_SimPerScriptCampaing_Lambda/JOB7/Sim_28/TxSentTrace.txt\n",
      "/home/dario/PoissonPlot/Plots/results_cluster_LteTodo24_SimPerScriptCampaing_Lambda/JOB7/Sim_29/TxSentTrace.txt\n",
      "/home/dario/PoissonPlot/Plots/results_cluster_LteTodo24_SimPerScriptCampaing_Lambda/JOB7/Sim_30/TxSentTrace.txt\n",
      "/home/dario/PoissonPlot/Plots/results_cluster_LteTodo24_SimPerScriptCampaing_Lambda/JOB7/Sim_31/TxSentTrace.txt\n",
      "/home/dario/PoissonPlot/Plots/results_cluster_LteTodo24_SimPerScriptCampaing_Lambda/JOB7/Sim_32/TxSentTrace.txt\n",
      "/home/dario/PoissonPlot/Plots/results_cluster_LteTodo24_SimPerScriptCampaing_Lambda/JOB7/Sim_33/TxSentTrace.txt\n",
      "/home/dario/PoissonPlot/Plots/results_cluster_LteTodo24_SimPerScriptCampaing_Lambda/JOB7/Sim_34/TxSentTrace.txt\n",
      "/home/dario/PoissonPlot/Plots/results_cluster_LteTodo24_SimPerScriptCampaing_Lambda/JOB7/Sim_35/TxSentTrace.txt\n",
      "/home/dario/PoissonPlot/Plots/results_cluster_LteTodo24_SimPerScriptCampaing_Lambda/JOB8/Sim_0/TxSentTrace.txt\n",
      "/home/dario/PoissonPlot/Plots/results_cluster_LteTodo24_SimPerScriptCampaing_Lambda/JOB8/Sim_1/TxSentTrace.txt\n",
      "/home/dario/PoissonPlot/Plots/results_cluster_LteTodo24_SimPerScriptCampaing_Lambda/JOB8/Sim_2/TxSentTrace.txt\n",
      "/home/dario/PoissonPlot/Plots/results_cluster_LteTodo24_SimPerScriptCampaing_Lambda/JOB8/Sim_3/TxSentTrace.txt\n",
      "/home/dario/PoissonPlot/Plots/results_cluster_LteTodo24_SimPerScriptCampaing_Lambda/JOB8/Sim_4/TxSentTrace.txt\n",
      "/home/dario/PoissonPlot/Plots/results_cluster_LteTodo24_SimPerScriptCampaing_Lambda/JOB8/Sim_5/TxSentTrace.txt\n",
      "/home/dario/PoissonPlot/Plots/results_cluster_LteTodo24_SimPerScriptCampaing_Lambda/JOB8/Sim_6/TxSentTrace.txt\n",
      "/home/dario/PoissonPlot/Plots/results_cluster_LteTodo24_SimPerScriptCampaing_Lambda/JOB8/Sim_7/TxSentTrace.txt\n",
      "/home/dario/PoissonPlot/Plots/results_cluster_LteTodo24_SimPerScriptCampaing_Lambda/JOB8/Sim_8/TxSentTrace.txt\n",
      "/home/dario/PoissonPlot/Plots/results_cluster_LteTodo24_SimPerScriptCampaing_Lambda/JOB8/Sim_9/TxSentTrace.txt\n",
      "/home/dario/PoissonPlot/Plots/results_cluster_LteTodo24_SimPerScriptCampaing_Lambda/JOB8/Sim_10/TxSentTrace.txt\n",
      "/home/dario/PoissonPlot/Plots/results_cluster_LteTodo24_SimPerScriptCampaing_Lambda/JOB8/Sim_11/TxSentTrace.txt\n",
      "/home/dario/PoissonPlot/Plots/results_cluster_LteTodo24_SimPerScriptCampaing_Lambda/JOB8/Sim_12/TxSentTrace.txt\n",
      "/home/dario/PoissonPlot/Plots/results_cluster_LteTodo24_SimPerScriptCampaing_Lambda/JOB8/Sim_13/TxSentTrace.txt\n",
      "/home/dario/PoissonPlot/Plots/results_cluster_LteTodo24_SimPerScriptCampaing_Lambda/JOB8/Sim_14/TxSentTrace.txt\n",
      "/home/dario/PoissonPlot/Plots/results_cluster_LteTodo24_SimPerScriptCampaing_Lambda/JOB8/Sim_15/TxSentTrace.txt\n",
      "/home/dario/PoissonPlot/Plots/results_cluster_LteTodo24_SimPerScriptCampaing_Lambda/JOB8/Sim_16/TxSentTrace.txt\n",
      "/home/dario/PoissonPlot/Plots/results_cluster_LteTodo24_SimPerScriptCampaing_Lambda/JOB8/Sim_17/TxSentTrace.txt\n",
      "/home/dario/PoissonPlot/Plots/results_cluster_LteTodo24_SimPerScriptCampaing_Lambda/JOB8/Sim_18/TxSentTrace.txt\n",
      "/home/dario/PoissonPlot/Plots/results_cluster_LteTodo24_SimPerScriptCampaing_Lambda/JOB8/Sim_19/TxSentTrace.txt\n",
      "/home/dario/PoissonPlot/Plots/results_cluster_LteTodo24_SimPerScriptCampaing_Lambda/JOB8/Sim_20/TxSentTrace.txt\n",
      "/home/dario/PoissonPlot/Plots/results_cluster_LteTodo24_SimPerScriptCampaing_Lambda/JOB8/Sim_21/TxSentTrace.txt\n",
      "/home/dario/PoissonPlot/Plots/results_cluster_LteTodo24_SimPerScriptCampaing_Lambda/JOB8/Sim_22/TxSentTrace.txt\n",
      "/home/dario/PoissonPlot/Plots/results_cluster_LteTodo24_SimPerScriptCampaing_Lambda/JOB8/Sim_23/TxSentTrace.txt\n",
      "/home/dario/PoissonPlot/Plots/results_cluster_LteTodo24_SimPerScriptCampaing_Lambda/JOB8/Sim_24/TxSentTrace.txt\n",
      "/home/dario/PoissonPlot/Plots/results_cluster_LteTodo24_SimPerScriptCampaing_Lambda/JOB8/Sim_25/TxSentTrace.txt\n",
      "/home/dario/PoissonPlot/Plots/results_cluster_LteTodo24_SimPerScriptCampaing_Lambda/JOB8/Sim_26/TxSentTrace.txt\n",
      "/home/dario/PoissonPlot/Plots/results_cluster_LteTodo24_SimPerScriptCampaing_Lambda/JOB8/Sim_27/TxSentTrace.txt\n",
      "/home/dario/PoissonPlot/Plots/results_cluster_LteTodo24_SimPerScriptCampaing_Lambda/JOB8/Sim_28/TxSentTrace.txt\n",
      "/home/dario/PoissonPlot/Plots/results_cluster_LteTodo24_SimPerScriptCampaing_Lambda/JOB8/Sim_29/TxSentTrace.txt\n",
      "/home/dario/PoissonPlot/Plots/results_cluster_LteTodo24_SimPerScriptCampaing_Lambda/JOB8/Sim_30/TxSentTrace.txt\n",
      "/home/dario/PoissonPlot/Plots/results_cluster_LteTodo24_SimPerScriptCampaing_Lambda/JOB8/Sim_31/TxSentTrace.txt\n",
      "/home/dario/PoissonPlot/Plots/results_cluster_LteTodo24_SimPerScriptCampaing_Lambda/JOB8/Sim_32/TxSentTrace.txt\n",
      "/home/dario/PoissonPlot/Plots/results_cluster_LteTodo24_SimPerScriptCampaing_Lambda/JOB8/Sim_33/TxSentTrace.txt\n",
      "/home/dario/PoissonPlot/Plots/results_cluster_LteTodo24_SimPerScriptCampaing_Lambda/JOB8/Sim_34/TxSentTrace.txt\n",
      "/home/dario/PoissonPlot/Plots/results_cluster_LteTodo24_SimPerScriptCampaing_Lambda/JOB8/Sim_35/TxSentTrace.txt\n",
      "/home/dario/PoissonPlot/Plots/results_cluster_LteTodo24_SimPerScriptCampaing_Lambda/JOB9/Sim_0/TxSentTrace.txt\n",
      "/home/dario/PoissonPlot/Plots/results_cluster_LteTodo24_SimPerScriptCampaing_Lambda/JOB9/Sim_1/TxSentTrace.txt\n",
      "/home/dario/PoissonPlot/Plots/results_cluster_LteTodo24_SimPerScriptCampaing_Lambda/JOB9/Sim_2/TxSentTrace.txt\n",
      "/home/dario/PoissonPlot/Plots/results_cluster_LteTodo24_SimPerScriptCampaing_Lambda/JOB9/Sim_3/TxSentTrace.txt\n",
      "/home/dario/PoissonPlot/Plots/results_cluster_LteTodo24_SimPerScriptCampaing_Lambda/JOB9/Sim_4/TxSentTrace.txt\n",
      "/home/dario/PoissonPlot/Plots/results_cluster_LteTodo24_SimPerScriptCampaing_Lambda/JOB9/Sim_5/TxSentTrace.txt\n",
      "/home/dario/PoissonPlot/Plots/results_cluster_LteTodo24_SimPerScriptCampaing_Lambda/JOB9/Sim_6/TxSentTrace.txt\n",
      "/home/dario/PoissonPlot/Plots/results_cluster_LteTodo24_SimPerScriptCampaing_Lambda/JOB9/Sim_7/TxSentTrace.txt\n",
      "/home/dario/PoissonPlot/Plots/results_cluster_LteTodo24_SimPerScriptCampaing_Lambda/JOB9/Sim_8/TxSentTrace.txt\n",
      "/home/dario/PoissonPlot/Plots/results_cluster_LteTodo24_SimPerScriptCampaing_Lambda/JOB9/Sim_9/TxSentTrace.txt\n"
     ]
    },
    {
     "name": "stdout",
     "output_type": "stream",
     "text": [
      "/home/dario/PoissonPlot/Plots/results_cluster_LteTodo24_SimPerScriptCampaing_Lambda/JOB9/Sim_10/TxSentTrace.txt\n",
      "/home/dario/PoissonPlot/Plots/results_cluster_LteTodo24_SimPerScriptCampaing_Lambda/JOB9/Sim_11/TxSentTrace.txt\n",
      "/home/dario/PoissonPlot/Plots/results_cluster_LteTodo24_SimPerScriptCampaing_Lambda/JOB9/Sim_12/TxSentTrace.txt\n",
      "/home/dario/PoissonPlot/Plots/results_cluster_LteTodo24_SimPerScriptCampaing_Lambda/JOB9/Sim_13/TxSentTrace.txt\n",
      "/home/dario/PoissonPlot/Plots/results_cluster_LteTodo24_SimPerScriptCampaing_Lambda/JOB9/Sim_14/TxSentTrace.txt\n",
      "/home/dario/PoissonPlot/Plots/results_cluster_LteTodo24_SimPerScriptCampaing_Lambda/JOB9/Sim_15/TxSentTrace.txt\n",
      "/home/dario/PoissonPlot/Plots/results_cluster_LteTodo24_SimPerScriptCampaing_Lambda/JOB9/Sim_16/TxSentTrace.txt\n",
      "/home/dario/PoissonPlot/Plots/results_cluster_LteTodo24_SimPerScriptCampaing_Lambda/JOB9/Sim_17/TxSentTrace.txt\n",
      "/home/dario/PoissonPlot/Plots/results_cluster_LteTodo24_SimPerScriptCampaing_Lambda/JOB9/Sim_18/TxSentTrace.txt\n",
      "/home/dario/PoissonPlot/Plots/results_cluster_LteTodo24_SimPerScriptCampaing_Lambda/JOB9/Sim_19/TxSentTrace.txt\n",
      "/home/dario/PoissonPlot/Plots/results_cluster_LteTodo24_SimPerScriptCampaing_Lambda/JOB9/Sim_20/TxSentTrace.txt\n",
      "/home/dario/PoissonPlot/Plots/results_cluster_LteTodo24_SimPerScriptCampaing_Lambda/JOB9/Sim_21/TxSentTrace.txt\n",
      "/home/dario/PoissonPlot/Plots/results_cluster_LteTodo24_SimPerScriptCampaing_Lambda/JOB9/Sim_22/TxSentTrace.txt\n",
      "/home/dario/PoissonPlot/Plots/results_cluster_LteTodo24_SimPerScriptCampaing_Lambda/JOB9/Sim_23/TxSentTrace.txt\n",
      "/home/dario/PoissonPlot/Plots/results_cluster_LteTodo24_SimPerScriptCampaing_Lambda/JOB9/Sim_24/TxSentTrace.txt\n",
      "/home/dario/PoissonPlot/Plots/results_cluster_LteTodo24_SimPerScriptCampaing_Lambda/JOB9/Sim_25/TxSentTrace.txt\n",
      "/home/dario/PoissonPlot/Plots/results_cluster_LteTodo24_SimPerScriptCampaing_Lambda/JOB9/Sim_26/TxSentTrace.txt\n",
      "/home/dario/PoissonPlot/Plots/results_cluster_LteTodo24_SimPerScriptCampaing_Lambda/JOB9/Sim_27/TxSentTrace.txt\n",
      "/home/dario/PoissonPlot/Plots/results_cluster_LteTodo24_SimPerScriptCampaing_Lambda/JOB9/Sim_28/TxSentTrace.txt\n",
      "/home/dario/PoissonPlot/Plots/results_cluster_LteTodo24_SimPerScriptCampaing_Lambda/JOB9/Sim_29/TxSentTrace.txt\n",
      "/home/dario/PoissonPlot/Plots/results_cluster_LteTodo24_SimPerScriptCampaing_Lambda/JOB9/Sim_30/TxSentTrace.txt\n",
      "/home/dario/PoissonPlot/Plots/results_cluster_LteTodo24_SimPerScriptCampaing_Lambda/JOB9/Sim_31/TxSentTrace.txt\n",
      "/home/dario/PoissonPlot/Plots/results_cluster_LteTodo24_SimPerScriptCampaing_Lambda/JOB9/Sim_32/TxSentTrace.txt\n",
      "/home/dario/PoissonPlot/Plots/results_cluster_LteTodo24_SimPerScriptCampaing_Lambda/JOB9/Sim_33/TxSentTrace.txt\n",
      "/home/dario/PoissonPlot/Plots/results_cluster_LteTodo24_SimPerScriptCampaing_Lambda/JOB9/Sim_34/TxSentTrace.txt\n",
      "/home/dario/PoissonPlot/Plots/results_cluster_LteTodo24_SimPerScriptCampaing_Lambda/JOB9/Sim_35/TxSentTrace.txt\n"
     ]
    }
   ],
   "source": [
    "#para todos os jobs\n",
    "df=[]\n",
    "for j in range(Jobs):\n",
    "    for i in range(nsims):\n",
    "        filepath = opath + CampaignName +\"JOB\"+str(j)+\"/Sim_\"+str(i)+\"/TxSentTrace.txt\"\n",
    "        print(filepath)\n",
    "        df2 = pd.read_csv(filepath)\n",
    "        dfTxTimeFloat = [float(df2[\"Time\"][x][:-2]) for x in range(len(df2[\"Time\"]))]\n",
    "        df = np.append(df,dfTxTimeFloat,axis=0)"
   ]
  },
  {
   "cell_type": "code",
   "execution_count": 153,
   "metadata": {},
   "outputs": [
    {
     "name": "stdout",
     "output_type": "stream",
     "text": [
      "/home/dario/PoissonPlot/Plots/results_cluster_LteTodo24_SimPerScriptCampaing_Lambda/JOB0/Sim_0/TxSentTrace.txt\n"
     ]
    },
    {
     "ename": "IndexError",
     "evalue": "list index out of range",
     "output_type": "error",
     "traceback": [
      "\u001b[0;31m---------------------------------------------------------------------------\u001b[0m",
      "\u001b[0;31mIndexError\u001b[0m                                Traceback (most recent call last)",
      "\u001b[0;32m<ipython-input-153-fc730026043d>\u001b[0m in \u001b[0;36m<module>\u001b[0;34m\u001b[0m\n\u001b[1;32m      9\u001b[0m         \u001b[0mdfTxTimeFloat\u001b[0m \u001b[0;34m=\u001b[0m \u001b[0;34m[\u001b[0m\u001b[0mfloat\u001b[0m\u001b[0;34m(\u001b[0m\u001b[0mdf2\u001b[0m\u001b[0;34m[\u001b[0m\u001b[0;34m\"Time\"\u001b[0m\u001b[0;34m]\u001b[0m\u001b[0;34m[\u001b[0m\u001b[0mx\u001b[0m\u001b[0;34m]\u001b[0m\u001b[0;34m[\u001b[0m\u001b[0;34m:\u001b[0m\u001b[0;34m-\u001b[0m\u001b[0;36m2\u001b[0m\u001b[0;34m]\u001b[0m\u001b[0;34m)\u001b[0m \u001b[0;32mfor\u001b[0m \u001b[0mx\u001b[0m \u001b[0;32min\u001b[0m \u001b[0mrange\u001b[0m\u001b[0;34m(\u001b[0m\u001b[0mlen\u001b[0m\u001b[0;34m(\u001b[0m\u001b[0mdf2\u001b[0m\u001b[0;34m[\u001b[0m\u001b[0;34m\"Time\"\u001b[0m\u001b[0;34m]\u001b[0m\u001b[0;34m)\u001b[0m\u001b[0;34m)\u001b[0m\u001b[0;34m]\u001b[0m\u001b[0;34m\u001b[0m\u001b[0;34m\u001b[0m\u001b[0m\n\u001b[1;32m     10\u001b[0m         \u001b[0;32mfor\u001b[0m \u001b[0ml\u001b[0m \u001b[0;32min\u001b[0m \u001b[0mrange\u001b[0m\u001b[0;34m(\u001b[0m\u001b[0mlen\u001b[0m\u001b[0;34m(\u001b[0m\u001b[0mdfTxTimeFloat\u001b[0m\u001b[0;34m)\u001b[0m\u001b[0;34m)\u001b[0m\u001b[0;34m:\u001b[0m\u001b[0;34m\u001b[0m\u001b[0;34m\u001b[0m\u001b[0m\n\u001b[0;32m---> 11\u001b[0;31m             \u001b[0mdfMedian\u001b[0m\u001b[0;34m[\u001b[0m\u001b[0ml\u001b[0m\u001b[0;34m]\u001b[0m \u001b[0;34m=\u001b[0m \u001b[0mdfTxTimeFloat\u001b[0m\u001b[0;34m[\u001b[0m\u001b[0ml\u001b[0m\u001b[0;34m]\u001b[0m \u001b[0;34m+\u001b[0m \u001b[0mdfMedian\u001b[0m\u001b[0;34m[\u001b[0m\u001b[0ml\u001b[0m\u001b[0;34m]\u001b[0m\u001b[0;34m\u001b[0m\u001b[0;34m\u001b[0m\u001b[0m\n\u001b[0m\u001b[1;32m     12\u001b[0m \u001b[0;34m\u001b[0m\u001b[0m\n\u001b[1;32m     13\u001b[0m \u001b[0;34m\u001b[0m\u001b[0m\n",
      "\u001b[0;31mIndexError\u001b[0m: list index out of range"
     ]
    }
   ],
   "source": [
    "#media de todos os jobs\n",
    "df=[]\n",
    "for j in range(Jobs):\n",
    "    dfMedian = []\n",
    "    for i in range(nsims):\n",
    "        filepath = opath + CampaignName +\"JOB\"+str(j)+\"/Sim_\"+str(i)+\"/TxSentTrace.txt\"\n",
    "        print(filepath)\n",
    "        df2 = pd.read_csv(filepath)\n",
    "        dfTxTimeFloat = [float(df2[\"Time\"][x][:-2]) for x in range(len(df2[\"Time\"]))]\n",
    "        for l in range(len(dfTxTimeFloat)):\n",
    "            dfMedian[l] = dfTxTimeFloat[l] + dfMedian[l]\n",
    "        \n",
    "        \n",
    "df = np.append(df,dfTxTimeFloat,axis=0)"
   ]
  },
  {
   "cell_type": "markdown",
   "metadata": {},
   "source": [
    "#### Plotting Results - Histograma"
   ]
  },
  {
   "cell_type": "code",
   "execution_count": 145,
   "metadata": {},
   "outputs": [
    {
     "data": {
      "image/png": "[encoded data removed]",
      "text/plain": [
       "<Figure size 432x288 with 1 Axes>"
      ]
     },
     "metadata": {
      "needs_background": "light"
     },
     "output_type": "display_data"
    }
   ],
   "source": [
    "#Bins Configuration\n",
    "bin_i=0.002\n",
    "bin_f=0.01\n",
    "bin_step=0.0001\n",
    "\n",
    "#x = np.diff(np.array((dfTxTimeFloat))*1e9,axis=0)\n",
    "x = abs(np.diff(np.array(df)/1e6))/1e3\n",
    "num_bins = np.arange(bin_i,bin_f,bin_step)\n",
    "fig, ax = plt.subplots()\n",
    "\n",
    "# the histogram of the data\n",
    "n, bins, patches = ax.hist(x, num_bins)\n",
    "#ax=sns.distplot(x,kde=True,bins = num_bins)\n",
    "n,bins=np.histogram(x,bins=num_bins)\n",
    "\n",
    "# Tweak spacing to prevent clipping of ylabel\n",
    "fig.tight_layout()\n",
    "ax.set_xlabel('InterArrivalPacket')\n",
    "ax.set_ylabel('Count')\n",
    "plt.show()\n"
   ]
  },
  {
   "cell_type": "markdown",
   "metadata": {},
   "source": [
    "#### Plotting Results - Fitagem"
   ]
  },
  {
   "cell_type": "code",
   "execution_count": 146,
   "metadata": {},
   "outputs": [
    {
     "name": "stdout",
     "output_type": "stream",
     "text": [
      "[-490.67212451   11.25931899]\n"
     ]
    },
    {
     "data": {
      "image/png": "[encoded data removed]",
      "text/plain": [
       "<Figure size 504x360 with 1 Axes>"
      ]
     },
     "metadata": {
      "needs_background": "light"
     },
     "output_type": "display_data"
    }
   ],
   "source": [
    "x_data = bins[:-1]\n",
    "y_data = n\n",
    "\n",
    "log_x_data = np.log(x_data)\n",
    "log_y_data = np.log(y_data)\n",
    "curve_fit = np.polyfit(x_data, log_y_data, 1)\n",
    "\n",
    "print(curve_fit)\n",
    "\n",
    "y = np.exp(curve_fit[1]) * np.exp(curve_fit[0]*x_data)\n",
    "\n",
    "\n",
    "fig = plt.figure(figsize=(7,5))\n",
    "ax = fig.add_subplot(111)\n",
    "\n",
    "ax.plot(x_data, y_data, \"o\",label = \"Real Values\")\n",
    "ax.plot(x_data, y,label = \"Exponential Fitting\")\n",
    "ax.legend(loc=\"upper left\")\n",
    "ax.set_xlabel('InterArrivalTime')\n",
    "ax.set_ylabel('Count')\n",
    "plt.show()\n"
   ]
  },
  {
   "cell_type": "markdown",
   "metadata": {},
   "source": [
    "## Desafio"
   ]
  },
  {
   "cell_type": "markdown",
   "metadata": {},
   "source": [
    "### Desafio 1:  \n",
    "\n",
    "Com base no código mostrado, crie **nsims** gráficos da prova de poisson, considerando todos os Jobs simulados. "
   ]
  },
  {
   "cell_type": "markdown",
   "metadata": {},
   "source": [
    "### Desafio 2:  \n",
    "\n",
    "Com base no código mostrado, crie **nsims** gráficos, considerando a média de cada *nsim* e todos os Jobs. "
   ]
  },
  {
   "cell_type": "markdown",
   "metadata": {},
   "source": [
    "# Baseado no Código de Fitagem"
   ]
  },
  {
   "cell_type": "code",
   "execution_count": 129,
   "metadata": {},
   "outputs": [
    {
     "name": "stdout",
     "output_type": "stream",
     "text": [
      "[1.00000000e+00 1.77635684e-16]\n"
     ]
    },
    {
     "name": "stderr",
     "output_type": "stream",
     "text": [
      "<ipython-input-129-a9b4c5d1d232>:7: RuntimeWarning: divide by zero encountered in log\n",
      "  log_x_data = np.log(x_data)\n"
     ]
    },
    {
     "data": {
      "image/png": "[encoded data removed]",
      "text/plain": [
       "<Figure size 504x360 with 1 Axes>"
      ]
     },
     "metadata": {
      "needs_background": "light"
     },
     "output_type": "display_data"
    }
   ],
   "source": [
    "\"\"\"\n",
    "Generate some data, let's imagine that you already have this. \n",
    "\"\"\"\n",
    "x_data = np.linspace(0, 3, 25)\n",
    "y_data = np.exp(x_data)\n",
    "\n",
    "log_x_data = np.log(x_data)\n",
    "log_y_data = np.log(y_data)\n",
    "curve_fit = np.polyfit(x_data, log_y_data, 1)\n",
    "\n",
    "print(curve_fit)\n",
    "\n",
    "y = np.exp(curve_fit[1]) * np.exp(curve_fit[0]*x_data)\n",
    "\n",
    "fig = plt.figure(figsize=(7,5))\n",
    "ax = fig.add_subplot(111)\n",
    "\n",
    "ax.plot(x_data, y_data, \"o\",label = \"Real Values\")\n",
    "ax.plot(x_data, y,label = \"Exponential Fitting\")\n",
    "ax.legend(loc=\"upper left\")\n",
    "ax.set_xlabel('InterArrivalPacket')\n",
    "ax.set_ylabel('Count')\n",
    "plt.show()\n",
    "\n"
   ]
  },
  {
   "cell_type": "code",
   "execution_count": null,
   "metadata": {},
   "outputs": [],
   "source": []
  }
 ],
 "metadata": {
  "kernelspec": {
   "display_name": "Python 3",
   "language": "python",
   "name": "python3"
  },
  "language_info": {
   "codemirror_mode": {
    "name": "ipython",
    "version": 3
   },
   "file_extension": ".py",
   "mimetype": "text/x-python",
   "name": "python",
   "nbconvert_exporter": "python",
   "pygments_lexer": "ipython3",
   "version": "3.8.5"
  }
 },
 "nbformat": 4,
 "nbformat_minor": 4
}
